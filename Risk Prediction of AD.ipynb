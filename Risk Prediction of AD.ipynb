{
 "cells": [
  {
   "cell_type": "code",
   "execution_count": null,
   "id": "26b2f103",
   "metadata": {},
   "outputs": [],
   "source": [
    "import pandas as pd\n",
    "import numpy as np\n",
    "import seaborn as sns\n",
    "import matplotlib.pyplot as plt\n",
    "from sklearn import metrics\n",
    "import warnings\n",
    "from sklearn.metrics import classification_report, precision_score, recall_score\n",
    "import time\n",
    "from sklearn.ensemble import RandomForestClassifier\n",
    "from sklearn.linear_model import LogisticRegression\n",
    "from sklearn.naive_bayes import GaussianNB\n",
    "warnings.filterwarnings(\"ignore\")"
   ]
  },
  {
   "cell_type": "code",
   "execution_count": null,
   "id": "4f77b419",
   "metadata": {},
   "outputs": [],
   "source": [
    "filename = r'D:\\Users\\DELL\\Desktop\\Fall 2022\\Predictive Analytics\\ADNIMERGE_PRDCTV.csv'\n",
    "dataFrame = pd.read_csv(filename)\n",
    "names = ['AGE','PTEDUCAT','PTRACCAT','PTMARRY','TRABSCOR','FAQ','MOCA','DX']\n",
    "dataFrame = dataFrame[names]\n",
    "dataFrame.head()"
   ]
  },
  {
   "cell_type": "code",
   "execution_count": null,
   "id": "586644ce",
   "metadata": {},
   "outputs": [],
   "source": [
    "dataFrame.info()"
   ]
  },
  {
   "cell_type": "code",
   "execution_count": null,
   "id": "2b3a95b4",
   "metadata": {},
   "outputs": [],
   "source": [
    "pd.options.display.max_columns = dataFrame.shape[1]\n",
    "dataFrame.describe()"
   ]
  },
  {
   "cell_type": "code",
   "execution_count": null,
   "id": "baa50c8d",
   "metadata": {},
   "outputs": [],
   "source": [
    "dataFrame.describe(include=['object'])"
   ]
  },
  {
   "cell_type": "code",
   "execution_count": null,
   "id": "8def147e",
   "metadata": {},
   "outputs": [],
   "source": [
    "sns.countplot(dataFrame['DX'])"
   ]
  },
  {
   "cell_type": "code",
   "execution_count": null,
   "id": "ccae5f7c",
   "metadata": {},
   "outputs": [],
   "source": [
    "plt.figure(figsize=(10,15))\n",
    "sns.catplot(x='FAQ', y = 'MOCA', data = dataFrame, hue = 'DX') \n",
    "plt.xticks(rotation=90)\n",
    "plt.show"
   ]
  },
  {
   "cell_type": "code",
   "execution_count": null,
   "id": "8a28103c",
   "metadata": {},
   "outputs": [],
   "source": [
    "plt.figure(figsize=(10,15))\n",
    "sns.catplot(x='MOCA', y = 'TRABSCOR', data = dataFrame, hue = 'DX') \n",
    "plt.xticks(rotation=90)\n",
    "plt.show"
   ]
  },
  {
   "cell_type": "code",
   "execution_count": null,
   "id": "167c21ef",
   "metadata": {},
   "outputs": [],
   "source": [
    "plt.figure(figsize=(10,15))\n",
    "sns.catplot(x='FAQ', y = 'TRABSCOR', data = dataFrame, hue = 'DX') \n",
    "plt.xticks(rotation=90)\n",
    "plt.show"
   ]
  },
  {
   "cell_type": "code",
   "execution_count": null,
   "id": "f06ba44c",
   "metadata": {},
   "outputs": [],
   "source": [
    "plt.figure(figsize=(10,15))\n",
    "sns.catplot(x='PTGENDER', y = 'AGE', data = dataFrame, hue = 'DX') \n",
    "plt.xticks(rotation=90)\n",
    "plt.show"
   ]
  },
  {
   "cell_type": "code",
   "execution_count": null,
   "id": "05a20ab3",
   "metadata": {},
   "outputs": [],
   "source": [
    "plt.figure(figsize=(10,15))\n",
    "sns.catplot(x='PTRACCAT', y = 'AGE', data = dataFrame, hue = 'DX') \n",
    "plt.xticks(rotation=90)\n",
    "plt.show"
   ]
  },
  {
   "cell_type": "code",
   "execution_count": null,
   "id": "cf7eb68a",
   "metadata": {},
   "outputs": [],
   "source": [
    "plt.figure(figsize=(10,15))\n",
    "sns.catplot(x='PTMARRY', y = 'AGE', data = dataFrame, hue = 'DX') \n",
    "plt.xticks(rotation=90)\n",
    "plt.show"
   ]
  },
  {
   "cell_type": "code",
   "execution_count": null,
   "id": "60c85872",
   "metadata": {},
   "outputs": [],
   "source": [
    "plt.figure(figsize=(10,15))\n",
    "sns.catplot(x='PTEDUCAT', y = 'AGE', data = dataFrame, hue = 'DX') \n",
    "plt.xticks(rotation=90)\n",
    "plt.show"
   ]
  },
  {
   "cell_type": "code",
   "execution_count": null,
   "id": "ee706bae",
   "metadata": {},
   "outputs": [],
   "source": [
    "plt.figure(figsize=(10,15))\n",
    "sns.catplot(x='PTRACCAT', y = 'PTEDUCAT', data = dataFrame, hue = 'DX') \n",
    "plt.xticks(rotation=90)\n",
    "plt.show"
   ]
  },
  {
   "cell_type": "code",
   "execution_count": null,
   "id": "570b6815",
   "metadata": {},
   "outputs": [],
   "source": [
    "plt.figure(figsize=(10,15))\n",
    "sns.catplot(x='PTMARRY', y = 'PTEDUCAT', data = dataFrame, hue = 'DX') \n",
    "plt.xticks(rotation=90)\n",
    "plt.show"
   ]
  },
  {
   "cell_type": "code",
   "execution_count": null,
   "id": "686f5c9d",
   "metadata": {},
   "outputs": [],
   "source": [
    "plt.figure(figsize=(10,15))\n",
    "sns.catplot(x='PTGENDER', y = 'PTEDUCAT', data = dataFrame, hue = 'DX') \n",
    "plt.xticks(rotation=90)\n",
    "plt.show"
   ]
  },
  {
   "cell_type": "code",
   "execution_count": null,
   "id": "a21bd750",
   "metadata": {},
   "outputs": [],
   "source": [
    "dataFrame.isnull().sum()"
   ]
  },
  {
   "cell_type": "code",
   "execution_count": null,
   "id": "d5d4364b",
   "metadata": {},
   "outputs": [],
   "source": [
    "dataFrame.fillna(dataFrame.mean(), inplace=True)\n",
    "# dataFrame['MOCA'] = dataFrame['MOCA'].fillna(dataFrame.groupby('PTRACCAT')['MOCA'].transform('mean'))\n",
    "# dataFrame['TRABSCOR'] = dataFrame['TRABSCOR'].fillna(dataFrame.groupby('PTRACCAT')['TRABSCOR'].transform('mean'))\n",
    "# dataFrame['FAQ'] = dataFrame['FAQ'].fillna(dataFrame.groupby('PTRACCAT')['FAQ'].transform('mean'))\n",
    "# dataFrame['AGE'] = dataFrame['AGE'].fillna(dataFrame.groupby('PTRACCAT')['AGE'].transform('mean'))\n",
    "# dataFrame.fillna(dataFrame.median(), inplace=True)\n",
    "# dataFrame.fillna(dataFrame.mode(), inplace=True)"
   ]
  },
  {
   "cell_type": "code",
   "execution_count": null,
   "id": "cb0e9750",
   "metadata": {},
   "outputs": [],
   "source": [
    "dataFrame.isnull().sum()"
   ]
  },
  {
   "cell_type": "code",
   "execution_count": null,
   "id": "04f0e484",
   "metadata": {},
   "outputs": [],
   "source": [
    "dataFrame.dtypes"
   ]
  },
  {
   "cell_type": "code",
   "execution_count": null,
   "id": "6b8c24a9",
   "metadata": {},
   "outputs": [],
   "source": [
    "dataFrame[[\"AGE\"]] = dataFrame[[\"AGE\"]].astype(\"int64\")\n",
    "dataFrame[[\"TRABSCOR\"]] = dataFrame[[\"TRABSCOR\"]].astype(\"int64\")\n",
    "dataFrame[[\"MOCA\"]] = dataFrame[[\"MOCA\"]].astype(\"int64\")\n",
    "dataFrame[[\"FAQ\"]] = dataFrame[[\"FAQ\"]].astype(\"int64\")"
   ]
  },
  {
   "cell_type": "code",
   "execution_count": null,
   "id": "e85c3a74",
   "metadata": {},
   "outputs": [],
   "source": [
    "dataFrame.dtypes"
   ]
  },
  {
   "cell_type": "code",
   "execution_count": null,
   "id": "6660ee2f",
   "metadata": {},
   "outputs": [],
   "source": [
    "from sklearn.preprocessing import LabelEncoder\n",
    "labelencoder_Y = LabelEncoder()\n",
    "dataFrame.DX = labelencoder_Y.fit_transform(dataFrame.DX)\n",
    "# dataFrame.PTGENDER = labelencoder_Y.fit_transform(dataFrame.PTGENDER)\n",
    "# dataFrame.PTETHCAT = labelencoder_Y.fit_transform(dataFrame.PTETHCAT)\n",
    "dataFrame.PTRACCAT = labelencoder_Y.fit_transform(dataFrame.PTRACCAT)\n",
    "dataFrame.PTMARRY = labelencoder_Y.fit_transform(dataFrame.PTMARRY)"
   ]
  },
  {
   "cell_type": "code",
   "execution_count": null,
   "id": "27639286",
   "metadata": {},
   "outputs": [],
   "source": [
    "dataFrame.head()"
   ]
  },
  {
   "cell_type": "code",
   "execution_count": null,
   "id": "7c924820",
   "metadata": {},
   "outputs": [],
   "source": [
    "# data = dataFrame.drop_duplicates('PTRACCAT')\n",
    "# print(data)"
   ]
  },
  {
   "cell_type": "code",
   "execution_count": null,
   "id": "b15f00f9",
   "metadata": {},
   "outputs": [],
   "source": [
    "dataFrame.corr()"
   ]
  },
  {
   "cell_type": "code",
   "execution_count": null,
   "id": "31f1b47d",
   "metadata": {},
   "outputs": [],
   "source": [
    "f,ax = plt.subplots(figsize=(15, 15))\n",
    "matrix = np.triu(dataFrame.corr())\n",
    "sns.heatmap(dataFrame.corr(), annot=True)"
   ]
  },
  {
   "cell_type": "code",
   "execution_count": null,
   "id": "cfb5e500",
   "metadata": {},
   "outputs": [],
   "source": [
    "from scipy import stats\n",
    "pearson_coef, p_value = stats.pearsonr(dataFrame['AGE'], dataFrame['DX'])\n",
    "print(\"The Pearson Correlation Coefficient is\", pearson_coef, \" with a P-value of P =\", p_value)"
   ]
  },
  {
   "cell_type": "code",
   "execution_count": null,
   "id": "ec545901",
   "metadata": {},
   "outputs": [],
   "source": [
    "pearson_coef, p_value = stats.pearsonr(dataFrame['PTGENDER'], dataFrame['DX'])\n",
    "print(\"The Pearson Correlation Coefficient is\", pearson_coef, \" with a P-value of P =\", p_value) "
   ]
  },
  {
   "cell_type": "code",
   "execution_count": null,
   "id": "560b6bfc",
   "metadata": {},
   "outputs": [],
   "source": [
    "pearson_coef, p_value = stats.pearsonr(dataFrame['PTEDUCAT'], dataFrame['DX'])\n",
    "print(\"The Pearson Correlation Coefficient is\", pearson_coef, \" with a P-value of P =\", p_value) "
   ]
  },
  {
   "cell_type": "code",
   "execution_count": null,
   "id": "36ecdef8",
   "metadata": {},
   "outputs": [],
   "source": [
    "pearson_coef, p_value = stats.pearsonr(dataFrame['PTETHCAT'], dataFrame['DX'])\n",
    "print(\"The Pearson Correlation Coefficient is\", pearson_coef, \" with a P-value of P =\", p_value) "
   ]
  },
  {
   "cell_type": "code",
   "execution_count": null,
   "id": "e37eb0fe",
   "metadata": {},
   "outputs": [],
   "source": [
    "pearson_coef, p_value = stats.pearsonr(dataFrame['PTRACCAT'], dataFrame['DX'])\n",
    "print(\"The Pearson Correlation Coefficient is\", pearson_coef, \" with a P-value of P =\", p_value) "
   ]
  },
  {
   "cell_type": "code",
   "execution_count": null,
   "id": "bd09cd77",
   "metadata": {},
   "outputs": [],
   "source": [
    "pearson_coef, p_value = stats.pearsonr(dataFrame['TRABSCOR'], dataFrame['DX'])\n",
    "print(\"The Pearson Correlation Coefficient is\", pearson_coef, \" with a P-value of P =\", p_value) "
   ]
  },
  {
   "cell_type": "code",
   "execution_count": null,
   "id": "2200acd7",
   "metadata": {},
   "outputs": [],
   "source": [
    "pearson_coef, p_value = stats.pearsonr(dataFrame['FAQ'], dataFrame['DX'])\n",
    "print(\"The Pearson Correlation Coefficient is\", pearson_coef, \" with a P-value of P =\", p_value) "
   ]
  },
  {
   "cell_type": "code",
   "execution_count": null,
   "id": "9ca554e6",
   "metadata": {},
   "outputs": [],
   "source": [
    "pearson_coef, p_value = stats.pearsonr(dataFrame['MOCA'], dataFrame['DX'])\n",
    "print(\"The Pearson Correlation Coefficient is\", pearson_coef, \" with a P-value of P =\", p_value)"
   ]
  },
  {
   "cell_type": "code",
   "execution_count": null,
   "id": "fafaad3f",
   "metadata": {},
   "outputs": [],
   "source": [
    "X=dataFrame.iloc[:,0:7]\n",
    "Y=dataFrame.iloc[:,7]\n",
    "X"
   ]
  },
  {
   "cell_type": "code",
   "execution_count": null,
   "id": "a5988a3d",
   "metadata": {},
   "outputs": [],
   "source": [
    "Y"
   ]
  },
  {
   "cell_type": "code",
   "execution_count": null,
   "id": "0a48c3bb",
   "metadata": {},
   "outputs": [],
   "source": [
    "from sklearn.model_selection import train_test_split\n",
    "X_train, X_test, y_train, y_test = train_test_split(X, Y, test_size=0.2)\n",
    "print(X_train.shape, y_train.shape)\n",
    "print(X_test.shape, y_test.shape)"
   ]
  },
  {
   "cell_type": "code",
   "execution_count": null,
   "id": "2bce008a",
   "metadata": {},
   "outputs": [],
   "source": [
    "from collections import Counter\n",
    "count=Counter(y_train)\n",
    "print('Before: ',count)"
   ]
  },
  {
   "cell_type": "code",
   "execution_count": null,
   "id": "546d046a",
   "metadata": {},
   "outputs": [],
   "source": [
    "from imblearn.over_sampling import SMOTE\n",
    "oversampling = SMOTE()\n",
    "X_train, y_train = oversampling.fit_resample(X_train, y_train)"
   ]
  },
  {
   "cell_type": "code",
   "execution_count": null,
   "id": "44a23293",
   "metadata": {},
   "outputs": [],
   "source": [
    "count=Counter(y_train)\n",
    "print('After: ',count)"
   ]
  },
  {
   "cell_type": "code",
   "execution_count": null,
   "id": "0c47be6d",
   "metadata": {},
   "outputs": [],
   "source": [
    "RF=RandomForestClassifier()\n",
    "RF.fit(X_train,y_train)"
   ]
  },
  {
   "cell_type": "code",
   "execution_count": null,
   "id": "957723b7",
   "metadata": {},
   "outputs": [],
   "source": [
    "start=time.time()\n",
    "y_pred = RF.predict(X_test)\n",
    "end=time.time()\n",
    "final=end-start\n",
    "print(final)\n",
    "\n",
    "print(classification_report(y_test,y_pred))"
   ]
  },
  {
   "cell_type": "code",
   "execution_count": null,
   "id": "f8966ce8",
   "metadata": {},
   "outputs": [],
   "source": [
    "recall=recall_score(y_test,y_pred)\n",
    "recall"
   ]
  },
  {
   "cell_type": "code",
   "execution_count": null,
   "id": "63244311",
   "metadata": {},
   "outputs": [],
   "source": [
    "LR=LogisticRegression()\n",
    "LR.fit(X_train,y_train)"
   ]
  },
  {
   "cell_type": "code",
   "execution_count": null,
   "id": "87f9ab17",
   "metadata": {},
   "outputs": [],
   "source": [
    "start2=time.time()\n",
    "y_pred2 = LR.predict(X_test)\n",
    "end2=time.time()\n",
    "final2=end2-start2\n",
    "print(final2)\n",
    "\n",
    "print(classification_report(y_test,y_pred2))"
   ]
  },
  {
   "cell_type": "code",
   "execution_count": null,
   "id": "09cd5a93",
   "metadata": {},
   "outputs": [],
   "source": [
    "recall2=recall_score(y_test,y_pred2)\n",
    "recall2"
   ]
  },
  {
   "cell_type": "code",
   "execution_count": null,
   "id": "10b67495",
   "metadata": {},
   "outputs": [],
   "source": [
    "XGB = XGBClassifier()\n",
    "XGB.fit(X_train,y_train)"
   ]
  },
  {
   "cell_type": "code",
   "execution_count": null,
   "id": "f432864b",
   "metadata": {},
   "outputs": [],
   "source": [
    "start3=time.time()\n",
    "y_pred3 = XGB.predict(X_test)\n",
    "end3=time.time()\n",
    "final3=end3-start3\n",
    "print(final3)\n",
    "\n",
    "print(classification_report(y_test,y_pred3))"
   ]
  },
  {
   "cell_type": "code",
   "execution_count": null,
   "id": "ef4cf685",
   "metadata": {},
   "outputs": [],
   "source": [
    "recall3=recall_score(y_test,y_pred3)\n",
    "recall3"
   ]
  },
  {
   "cell_type": "code",
   "execution_count": null,
   "id": "5607ff3c",
   "metadata": {},
   "outputs": [],
   "source": [
    "NB = GaussianNB()\n",
    "NB.fit(X_train, y_train)"
   ]
  },
  {
   "cell_type": "code",
   "execution_count": null,
   "id": "f88e9d9a",
   "metadata": {},
   "outputs": [],
   "source": [
    "start4=time.time()\n",
    "y_pred4 = NB.predict(X_test)\n",
    "end4=time.time()\n",
    "final4=end4-start4\n",
    "print(final4)\n",
    "print(classification_report(y_test,y_pred4))"
   ]
  },
  {
   "cell_type": "code",
   "execution_count": null,
   "id": "e8bb7ab7",
   "metadata": {},
   "outputs": [],
   "source": [
    "recall4=recall_score(y_test,y_pred4)\n",
    "recall4"
   ]
  },
  {
   "cell_type": "code",
   "execution_count": null,
   "id": "8f82fa4e",
   "metadata": {},
   "outputs": [],
   "source": [
    "models = [('Random Forest', final,recall),\n",
    "          ('Logistic Regression', final2,recall2),\n",
    "          ('XGBoost', final3,recall3),\n",
    "          ('Naive Bayes', final4,recall4)\n",
    "         ]"
   ]
  },
  {
   "cell_type": "code",
   "execution_count": null,
   "id": "46903345",
   "metadata": {},
   "outputs": [],
   "source": [
    "predict = pd.DataFrame(data = models, columns=['Model', 'Time','Recall'])\n",
    "predict"
   ]
  },
  {
   "cell_type": "code",
   "execution_count": null,
   "id": "9e3949ef",
   "metadata": {},
   "outputs": [],
   "source": [
    "predict.sort_values(by=(['Time']), ascending=False, inplace=True)\n",
    "\n",
    "f, axe = plt.subplots(1,1, figsize=(10,7))\n",
    "sns.barplot(x = predict['Model'], y=predict['Time'], ax = axe)\n",
    "axe.set_xlabel('Time', size=20)\n",
    "axe.set_ylabel('Model', size=20)\n",
    "\n",
    "plt.show()"
   ]
  },
  {
   "cell_type": "code",
   "execution_count": null,
   "id": "a9078b8b",
   "metadata": {},
   "outputs": [],
   "source": [
    "from sklearn.metrics import roc_auc_score, roc_curve\n",
    "\n",
    "y_test = y_test.replace({'AD': 1, 'Normal': 0})\n",
    "auc_rf = roc_auc_score(y_test, y_pred)\n",
    "fpr_rf, tpr_rf, thresholds_rf = roc_curve(y_test, y_pred)\n",
    "\n",
    "auc_lr = roc_auc_score(y_test, y_pred2)\n",
    "fpr_lr, tpr_lr, thresholds_lr = roc_curve(y_test, y_pred2)\n",
    "\n",
    "auc_xgb = roc_auc_score(y_test, y_pred3)\n",
    "fpr_xgb, tpr_xgb, thresholds_xgb = roc_curve(y_test, y_pred3)\n",
    "\n",
    "auc_nb = roc_auc_score(y_test, y_pred4)\n",
    "fpr_nb, tpr_nb, thresholds_nb = roc_curve(y_test, y_pred4)\n",
    "\n",
    "plt.figure(figsize=(12, 7))\n",
    "plt.plot(fpr_rf, tpr_rf, label=f'AUC (Random Forest) = {auc_rf:.2f}')\n",
    "plt.plot(fpr_lr, tpr_lr, label=f'AUC (Logistic Regression) = {auc_lr:.2f}')\n",
    "plt.plot(fpr_xgb, tpr_xgb, label=f'AUC (XGBoost) = {auc_xgb:.2f}')\n",
    "plt.plot(fpr_nb, tpr_nb, label=f'AUC (Naive Bayes) = {auc_nb:.2f}')\n",
    "plt.plot([0, 1], [0, 1], color='blue', linestyle='--', label='Baseline')\n",
    "plt.title('ROC Curve', size=20)\n",
    "plt.xlabel('Rate of False Positive', size=14)\n",
    "plt.ylabel('Rate of True Positive', size=14)\n",
    "plt.legend();"
   ]
  },
  {
   "cell_type": "code",
   "execution_count": null,
   "id": "04eabea3",
   "metadata": {},
   "outputs": [],
   "source": [
    "y_prob=RF.predict_proba(X_test)[:,1]\n",
    "print(y_prob)"
   ]
  },
  {
   "cell_type": "code",
   "execution_count": null,
   "id": "92495dfe",
   "metadata": {},
   "outputs": [],
   "source": [
    "y_prob=RF.predict_proba([[77,18,3,1,92,0,25]])[:,1]\n",
    "print('Actual result not AD, predicted risk is',y_prob)"
   ]
  },
  {
   "cell_type": "code",
   "execution_count": null,
   "id": "f1bc4e3e",
   "metadata": {},
   "outputs": [],
   "source": [
    "y_prob=RF.predict_proba([[82,12,3,2,100,10,23]])[:,1]\n",
    "print('Actual result AD, predicted risk is',y_prob)"
   ]
  },
  {
   "cell_type": "code",
   "execution_count": null,
   "id": "15a30f37",
   "metadata": {},
   "outputs": [],
   "source": [
    "RF.feature_importances_"
   ]
  },
  {
   "cell_type": "code",
   "execution_count": null,
   "id": "3aa51d8d",
   "metadata": {},
   "outputs": [],
   "source": [
    "(pd.Series(RF.feature_importances_, index=X.columns)\n",
    "   .nlargest(8)\n",
    "   .plot(kind='bar'))"
   ]
  },
  {
   "cell_type": "code",
   "execution_count": null,
   "id": "54a4ea1a",
   "metadata": {},
   "outputs": [],
   "source": [
    "# importance=RF.feature_importances_\n",
    "# summarize feature importance\n",
    "# for i,v in enumerate(importance):\n",
    "#     print('Feature: %0d, Score: %.5f' % (i,v))\n",
    "# # plot feature importance\n",
    "# plt.bar([x for x in range(len(importance))], importance)\n",
    "# plt.show()"
   ]
  },
  {
   "cell_type": "code",
   "execution_count": null,
   "id": "cb1373fe",
   "metadata": {},
   "outputs": [],
   "source": [
    "# importance2 = LR.coef_[0]\n",
    "# # summarize feature importance\n",
    "# for i,v in enumerate(importance2):\n",
    "#     print('Feature: %0d, Score: %.5f' % (i,v))\n",
    "# # plot feature importance\n",
    "# plt.bar([x for x in range(len(importance2))], importance2)\n",
    "# plt.show()"
   ]
  },
  {
   "cell_type": "code",
   "execution_count": null,
   "id": "7b6f051c",
   "metadata": {},
   "outputs": [],
   "source": [
    "import pickle"
   ]
  },
  {
   "cell_type": "code",
   "execution_count": null,
   "id": "d9363f50",
   "metadata": {},
   "outputs": [],
   "source": [
    "pickle.dump(RF,open('model.pkl','wb'))"
   ]
  },
  {
   "cell_type": "code",
   "execution_count": null,
   "id": "90e5b474",
   "metadata": {},
   "outputs": [],
   "source": [
    "import gradio as gr"
   ]
  },
  {
   "cell_type": "code",
   "execution_count": null,
   "id": "de7f1284",
   "metadata": {},
   "outputs": [],
   "source": [
    "print(dataFrame.columns)"
   ]
  },
  {
   "cell_type": "code",
   "execution_count": null,
   "id": "87bc3a09",
   "metadata": {},
   "outputs": [],
   "source": [
    "def risk(AGE, GENDER, EDUCATION, RACE, MARRIAGE, TRABSCOR, FAQ,MOCA):\n",
    "    x = np.array([AGE, GENDER, EDUCATION, RACE, MARRIAGE, TRABSCOR, FAQ,MOCA])\n",
    "    prediction = LR.predict_proba(x.reshape(1, -1))[:,1]\n",
    "    result=prediction*100\n",
    "    return result[0]"
   ]
  },
  {
   "cell_type": "code",
   "execution_count": null,
   "id": "5d1dfca0",
   "metadata": {},
   "outputs": [],
   "source": [
    "outputs = gr.outputs.Textbox()\n",
    "app = gr.Interface(fn=risk, inputs=['number','number','number','number','number','number','number','number'], outputs=outputs,description=\"Alzheimer's Disease Risk Prediction Model\")\n",
    "app.launch(share=True)"
   ]
  },
  {
   "cell_type": "code",
   "execution_count": null,
   "id": "00604c8d",
   "metadata": {},
   "outputs": [],
   "source": []
  }
 ],
 "metadata": {
  "kernelspec": {
   "display_name": "Python 3 (ipykernel)",
   "language": "python",
   "name": "python3"
  },
  "language_info": {
   "codemirror_mode": {
    "name": "ipython",
    "version": 3
   },
   "file_extension": ".py",
   "mimetype": "text/x-python",
   "name": "python",
   "nbconvert_exporter": "python",
   "pygments_lexer": "ipython3",
   "version": "3.9.12"
  }
 },
 "nbformat": 4,
 "nbformat_minor": 5
}
